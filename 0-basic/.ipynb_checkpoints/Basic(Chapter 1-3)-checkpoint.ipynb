{
 "cells": [
  {
   "cell_type": "code",
   "execution_count": null,
   "id": "851d3a77",
   "metadata": {},
   "outputs": [],
   "source": [
    "import torch"
   ]
  },
  {
   "cell_type": "code",
   "execution_count": null,
   "id": "f1aaa76e",
   "metadata": {},
   "outputs": [],
   "source": [
    "torch.cuda.is_available()"
   ]
  },
  {
   "cell_type": "code",
   "execution_count": null,
   "id": "c2539a62",
   "metadata": {},
   "outputs": [],
   "source": [
    "# import logging\n",
    "# import sys\n",
    "# from textwrap import TextWrapper\n",
    "\n",
    "# import datasets\n",
    "# import huggingface_hub\n",
    "# import matplotlib.font_manager as font_manager\n",
    "# import matplotlib.pyplot as plt\n",
    "# import torch\n",
    "# import transformers\n",
    "# from IPython.display import set_matplotlib_formats\n",
    "\n",
    "# # TODO: Consider adding SageMaker StudioLab\n",
    "# is_colab = \"google.colab\" in sys.modules\n",
    "# is_kaggle = \"kaggle_secrets\" in sys.modules\n",
    "# is_gpu_available = torch.cuda.is_available()\n",
    "\n",
    "\n",
    "# def install_mpl_fonts():\n",
    "#     font_dir = [\"./orm_fonts/\"]\n",
    "#     for font in font_manager.findSystemFonts(font_dir):\n",
    "#         font_manager.fontManager.addfont(font)\n",
    "\n",
    "\n",
    "# def set_plot_style():\n",
    "#     install_mpl_fonts()\n",
    "#     set_matplotlib_formats(\"pdf\", \"svg\")\n",
    "#     plt.style.use(\"plotting.mplstyle\")\n",
    "#     logging.getLogger(\"matplotlib\").setLevel(level=logging.ERROR)\n",
    "\n",
    "\n",
    "# def display_library_version(library):\n",
    "#     print(f\"Using {library.__name__} v{library.__version__}\")\n",
    "\n",
    "\n",
    "# def setup_chapter():\n",
    "#     # Check if we have a GPU\n",
    "#     if not is_gpu_available:\n",
    "#         print(\"No GPU was detected! This notebook can be *very* slow without a GPU 🐢\")\n",
    "#         if is_colab:\n",
    "#             print(\"Go to Runtime > Change runtime type and select a GPU hardware accelerator.\")\n",
    "#         if is_kaggle:\n",
    "#             print(\"Go to Settings > Accelerator and select GPU.\")\n",
    "#     # Give visibility on versions of the core libraries\n",
    "#     display_library_version(transformers)\n",
    "#     display_library_version(datasets)\n",
    "#     # Disable all info / warning messages\n",
    "#     transformers.logging.set_verbosity_error()\n",
    "#     datasets.logging.set_verbosity_error()\n",
    "#     # Logging is only available for the chapters that don't depend on Haystack\n",
    "#     if huggingface_hub.__version__ == \"0.0.19\":\n",
    "#         huggingface_hub.logging.set_verbosity_error()\n",
    "#     # Use O'Reilly style for plots\n",
    "#     set_plot_style()\n",
    "\n",
    "\n",
    "# def wrap_print_text(print):\n",
    "#     \"\"\"Adapted from: https://stackoverflow.com/questions/27621655/how-to-overload-print-function-to-expand-its-functionality/27621927\"\"\"\n",
    "\n",
    "#     def wrapped_func(text):\n",
    "#         if not isinstance(text, str):\n",
    "#             text = str(text)\n",
    "#         wrapper = TextWrapper(\n",
    "#             width=80,\n",
    "#             break_long_words=True,\n",
    "#             break_on_hyphens=False,\n",
    "#             replace_whitespace=False,\n",
    "#         )\n",
    "#         return print(\"\\n\".join(wrapper.fill(line) for line in text.split(\"\\n\")))\n",
    "\n",
    "#     return wrapped_func\n",
    "\n",
    "\n",
    "# print = wrap_print_text(print)\n"
   ]
  },
  {
   "cell_type": "code",
   "execution_count": 1,
   "id": "47e595fb",
   "metadata": {},
   "outputs": [],
   "source": [
    "from utils import *"
   ]
  },
  {
   "cell_type": "code",
   "execution_count": 2,
   "id": "131ea21e",
   "metadata": {},
   "outputs": [
    {
     "name": "stdout",
     "output_type": "stream",
     "text": [
      "Using transformers v4.30.2\n",
      "Using datasets v2.13.1\n"
     ]
    }
   ],
   "source": [
    "setup_chapter()"
   ]
  },
  {
   "cell_type": "markdown",
   "id": "083ab6df",
   "metadata": {},
   "source": [
    "### The style error varies dependending on the personalized python environmenbt, will figure out the solution of above error later"
   ]
  },
  {
   "cell_type": "code",
   "execution_count": null,
   "id": "1f7e4b03",
   "metadata": {},
   "outputs": [],
   "source": []
  }
 ],
 "metadata": {
  "kernelspec": {
   "display_name": "Python 3 (ipykernel)",
   "language": "python",
   "name": "python3"
  },
  "language_info": {
   "codemirror_mode": {
    "name": "ipython",
    "version": 3
   },
   "file_extension": ".py",
   "mimetype": "text/x-python",
   "name": "python",
   "nbconvert_exporter": "python",
   "pygments_lexer": "ipython3",
   "version": "3.11.3"
  }
 },
 "nbformat": 4,
 "nbformat_minor": 5
}
